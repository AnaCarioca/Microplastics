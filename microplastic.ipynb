{
 "cells": [
  {
   "cell_type": "markdown",
   "id": "f1371809",
   "metadata": {},
   "source": [
    "Importing needed libraries and preparing CSV data for analysis "
   ]
  },
  {
   "cell_type": "code",
   "execution_count": null,
   "id": "8632a374",
   "metadata": {},
   "outputs": [],
   "source": [
    "import pandas as pd\n",
    "import numpy as np\n",
    "import matplotlib.pyplot as plt\n"
   ]
  },
  {
   "cell_type": "code",
   "execution_count": null,
   "id": "4e7005a7",
   "metadata": {},
   "outputs": [],
   "source": [
    "plastic_df = pd.read_csv (\"processed_microplastics.csv\")\n",
    "plastic_df.head()"
   ]
  },
  {
   "cell_type": "markdown",
   "id": "33e9db58",
   "metadata": {},
   "source": [
    "Exploring Data "
   ]
  },
  {
   "cell_type": "code",
   "execution_count": null,
   "id": "6bd186b2",
   "metadata": {},
   "outputs": [],
   "source": [
    "plastic_df_shape = plastic_df . shape\n",
    "print (f\"Shape : {plastic_df_shape}\")"
   ]
  },
  {
   "cell_type": "code",
   "execution_count": null,
   "id": "1a9273f5",
   "metadata": {},
   "outputs": [],
   "source": [
    "plastic_df.info()"
   ]
  },
  {
   "cell_type": "code",
   "execution_count": null,
   "id": "fd2f4a65",
   "metadata": {},
   "outputs": [],
   "source": [
    "unique_countries = plastic_df['country'].unique()\n",
    "\n",
    "print(unique_countries)"
   ]
  },
  {
   "cell_type": "code",
   "execution_count": null,
   "id": "32d56dcd",
   "metadata": {},
   "outputs": [],
   "source": [
    "plastic_df.sort_values(by='country', inplace=True)\n",
    "print(plastic_df)"
   ]
  },
  {
   "cell_type": "code",
   "execution_count": null,
   "id": "4d4ef994",
   "metadata": {},
   "outputs": [],
   "source": [
    "unique_countries = plastic_df['country'].unique()\n",
    "\n",
    "print(unique_countries)"
   ]
  },
  {
   "cell_type": "code",
   "execution_count": null,
   "id": "3d181a43",
   "metadata": {},
   "outputs": [],
   "source": [
    "unique_countries_count = plastic_df['country'].nunique()\n",
    "\n",
    "print(unique_countries_count)"
   ]
  },
  {
   "cell_type": "code",
   "execution_count": null,
   "id": "6832b09e",
   "metadata": {},
   "outputs": [],
   "source": [
    "unique_years = plastic_df['year'].unique()\n",
    "\n",
    "print(unique_years)"
   ]
  },
  {
   "cell_type": "code",
   "execution_count": null,
   "id": "c8d06c0b",
   "metadata": {},
   "outputs": [],
   "source": [
    "gdp_df = pd.read_csv (\"gdp.csv\")\n",
    "gdp_df.head()"
   ]
  },
  {
   "cell_type": "code",
   "execution_count": null,
   "id": "f9043a40",
   "metadata": {},
   "outputs": [],
   "source": [
    "gdp_df.info()"
   ]
  },
  {
   "cell_type": "markdown",
   "id": "182bfd5a",
   "metadata": {},
   "source": [
    "Microplastic Data is restricted to years [1990 1995 2000 2005 2010 2015 2018] while GDP Data spams 60 years from 1960 to 2020. Filtering only  columms with years relevant to this Analysis. "
   ]
  },
  {
   "cell_type": "code",
   "execution_count": null,
   "id": "852a7300",
   "metadata": {},
   "outputs": [],
   "source": [
    "filtered_gdp_df = pd.read_csv (\"gdp.csv\", usecols= [\"Country Name\",\"1990\",\"1995\",\"2000\",\"2005\",\"2010\",\"2015\",\"2018\"])\n",
    "filtered_gdp_df.head()"
   ]
  },
  {
   "cell_type": "code",
   "execution_count": null,
   "id": "31e5d6fa",
   "metadata": {},
   "outputs": [],
   "source": [
    "unique_countries_count = filtered_gdp_df['Country Name'].nunique()\n",
    "\n",
    "print(unique_countries_count)"
   ]
  },
  {
   "cell_type": "code",
   "execution_count": null,
   "id": "3009ab37",
   "metadata": {},
   "outputs": [],
   "source": [
    "filtered_gdp_df.info()"
   ]
  },
  {
   "cell_type": "code",
   "execution_count": null,
   "id": "5efc4e11",
   "metadata": {},
   "outputs": [],
   "source": [
    "unique_countries = filtered_gdp_df['Country Name'].unique()\n",
    "\n",
    "print(unique_countries)"
   ]
  },
  {
   "cell_type": "markdown",
   "id": "0479bf30",
   "metadata": {},
   "source": [
    "Separating the data frame per year to better create 2 columns: 'GDP' and 'year'; also renaming colum 'Country Name' to 'country' to match column name on df1(plastic_df). "
   ]
  },
  {
   "cell_type": "code",
   "execution_count": null,
   "id": "595845a3",
   "metadata": {},
   "outputs": [],
   "source": [
    "y1990_gdp_df = pd.read_csv (\"gdp.csv\", usecols= [\"Country Name\",\"1990\"])\n",
    "y1990_gdp_df.rename(columns={'1990': 'GDP', 'Country Name': 'country'}, inplace=True)\n",
    "y1990_gdp_df['year'] = 1990\n",
    "print(y1990_gdp_df)"
   ]
  },
  {
   "cell_type": "code",
   "execution_count": null,
   "id": "4ea9d7ee",
   "metadata": {},
   "outputs": [],
   "source": [
    "y1995_gdp_df = pd.read_csv (\"gdp.csv\", usecols= [\"Country Name\",\"1995\"])\n",
    "y1995_gdp_df.rename(columns={'1995': 'GDP', 'Country Name': 'country' }, inplace=True)\n",
    "y1995_gdp_df['year'] = 1995\n",
    "print(y1995_gdp_df)"
   ]
  },
  {
   "cell_type": "code",
   "execution_count": null,
   "id": "28cf36b6",
   "metadata": {},
   "outputs": [],
   "source": [
    "y2000_gdp_df = pd.read_csv (\"gdp.csv\", usecols= [\"Country Name\",\"2000\"])\n",
    "y2000_gdp_df.rename(columns={'2000': 'GDP', 'Country Name': 'country'}, inplace=True)\n",
    "y2000_gdp_df['year'] = 2000\n",
    "print(y2000_gdp_df)"
   ]
  },
  {
   "cell_type": "code",
   "execution_count": null,
   "id": "97264f58",
   "metadata": {},
   "outputs": [],
   "source": [
    "y2005_gdp_df = pd.read_csv (\"gdp.csv\", usecols= [\"Country Name\",\"2005\"])\n",
    "y2005_gdp_df.rename(columns={'2005': 'GDP', 'Country Name': 'country'}, inplace=True)\n",
    "y2005_gdp_df['year'] = 2005\n",
    "print(y2005_gdp_df)"
   ]
  },
  {
   "cell_type": "code",
   "execution_count": null,
   "id": "166b3275",
   "metadata": {},
   "outputs": [],
   "source": [
    "y2010_gdp_df = pd.read_csv (\"gdp.csv\", usecols= [\"Country Name\",\"2010\"])\n",
    "y2010_gdp_df.rename(columns={'2010': 'GDP', 'Country Name': 'country'}, inplace=True)\n",
    "y2010_gdp_df['year'] = 2010\n",
    "print(y2010_gdp_df)"
   ]
  },
  {
   "cell_type": "code",
   "execution_count": null,
   "id": "0a00addf",
   "metadata": {},
   "outputs": [],
   "source": [
    "y2015_gdp_df = pd.read_csv (\"gdp.csv\", usecols= [\"Country Name\",\"2015\"])\n",
    "y2015_gdp_df.rename(columns={'2015': 'GDP', 'Country Name': 'country'}, inplace=True)\n",
    "y2015_gdp_df['year'] = 2015\n",
    "print(y2015_gdp_df)"
   ]
  },
  {
   "cell_type": "code",
   "execution_count": null,
   "id": "9bbca79b",
   "metadata": {},
   "outputs": [],
   "source": [
    "y2018_gdp_df = pd.read_csv (\"gdp.csv\", usecols= [\"Country Name\",\"2018\"])\n",
    "y2018_gdp_df.rename(columns={'2018': 'GDP', 'Country Name': 'country'}, inplace=True)\n",
    "y2018_gdp_df['year'] = 2018\n",
    "print(y2018_gdp_df)"
   ]
  },
  {
   "cell_type": "markdown",
   "id": "d191a799",
   "metadata": {},
   "source": [
    "I need to concatenate all GDP dataframe into one dataframe to be merged to \"plastic_df\" "
   ]
  },
  {
   "cell_type": "code",
   "execution_count": null,
   "id": "4675460a",
   "metadata": {},
   "outputs": [],
   "source": [
    "gdp_y_df = pd.concat ([y1990_gdp_df,y1995_gdp_df,y2000_gdp_df,y2005_gdp_df,y2010_gdp_df,y2015_gdp_df,y2018_gdp_df])\n",
    "print (gdp_y_df)"
   ]
  },
  {
   "cell_type": "code",
   "execution_count": null,
   "id": "10254a21",
   "metadata": {},
   "outputs": [],
   "source": [
    "gdp_y_df.describe ()\n",
    "gdp_y_df.info()\n",
    "gdp_y_df.shape\n"
   ]
  },
  {
   "cell_type": "markdown",
   "id": "98810829",
   "metadata": {},
   "source": [
    "By displaying all rows on gdp_y_df we can verify that there are more than just countries listed, also regions such as \"Africa Eastern and Southern\", \"Central Europe and the Baltics\" and \"Caribbean small states\". I choose them to \"merge iner left\" with \"plastic_df\" to filter out countries (and regions) that have valid data about Microplastic contamination . We can also see some NULL values and those will be cleaned out from the combined dataframe."
   ]
  },
  {
   "cell_type": "code",
   "execution_count": null,
   "id": "d8e26955",
   "metadata": {},
   "outputs": [],
   "source": [
    "pd.set_option ('display.max.rows',1863)\n",
    "gdp_y_df"
   ]
  },
  {
   "cell_type": "markdown",
   "id": "3fa69077",
   "metadata": {},
   "source": []
  },
  {
   "cell_type": "code",
   "execution_count": null,
   "id": "211a620a",
   "metadata": {},
   "outputs": [],
   "source": [
    "microplasticXGDP_df = plastic_df.merge (gdp_y_df, how='inner',on=['year','country'])\n",
    "pd.set_option ('display.max.columns', 100)\n",
    "print (microplasticXGDP_df)"
   ]
  },
  {
   "cell_type": "markdown",
   "id": "531df67b",
   "metadata": {},
   "source": [
    "Examining the new dataframe created "
   ]
  },
  {
   "cell_type": "code",
   "execution_count": 164,
   "id": "35266c4e",
   "metadata": {},
   "outputs": [
    {
     "name": "stdout",
     "output_type": "stream",
     "text": [
      "<class 'pandas.core.frame.DataFrame'>\n",
      "RangeIndex: 630 entries, 0 to 629\n",
      "Data columns (total 22 columns):\n",
      " #   Column                    Non-Null Count  Dtype  \n",
      "---  ------                    --------------  -----  \n",
      " 0   year                      630 non-null    int64  \n",
      " 1   country                   630 non-null    object \n",
      " 2   cheese                    630 non-null    float64\n",
      " 3   yoghurt                   630 non-null    float64\n",
      " 4   total_milk                630 non-null    float64\n",
      " 5   fruits                    630 non-null    float64\n",
      " 6   refined_grains            630 non-null    float64\n",
      " 7   whole_grains              630 non-null    float64\n",
      " 8   nuts_and_seeds            630 non-null    float64\n",
      " 9   total_processed_meats     630 non-null    float64\n",
      " 10  unprocessed_red_meats     630 non-null    float64\n",
      " 11  fish                      630 non-null    float64\n",
      " 12  shellfish                 630 non-null    float64\n",
      " 13  eggs                      630 non-null    float64\n",
      " 14  total_salt                630 non-null    float64\n",
      " 15  added_sugars              630 non-null    float64\n",
      " 16  non-starchy_vegetables    630 non-null    float64\n",
      " 17  potatoes                  630 non-null    float64\n",
      " 18  other_starchy_vegetables  630 non-null    float64\n",
      " 19  beans_and_legumes         630 non-null    float64\n",
      " 20  total_ug_per_kg           630 non-null    float64\n",
      " 21  GDP                       627 non-null    float64\n",
      "dtypes: float64(20), int64(1), object(1)\n",
      "memory usage: 108.4+ KB\n"
     ]
    },
    {
     "data": {
      "text/plain": [
       "(630, 22)"
      ]
     },
     "execution_count": 164,
     "metadata": {},
     "output_type": "execute_result"
    }
   ],
   "source": [
    "microplasticXGDP_df.describe ()\n",
    "microplasticXGDP_df.info ()\n",
    "microplasticXGDP_df.shape"
   ]
  },
  {
   "cell_type": "markdown",
   "id": "5eea0bee",
   "metadata": {},
   "source": [
    "3 NA values were found on Dataframe and used dropna to finish cleaning data in prparation for visualizations. "
   ]
  },
  {
   "cell_type": "code",
   "execution_count": 168,
   "id": "cd265ad6",
   "metadata": {},
   "outputs": [],
   "source": [
    "microplasticXGDP_df.dropna(inplace=True)"
   ]
  },
  {
   "cell_type": "markdown",
   "id": "4070dbb5",
   "metadata": {},
   "source": [
    "After dropna the Dataframe is ready for analisys , no null values were found"
   ]
  },
  {
   "cell_type": "code",
   "execution_count": 169,
   "id": "b89b8277",
   "metadata": {},
   "outputs": [
    {
     "name": "stdout",
     "output_type": "stream",
     "text": [
      "<class 'pandas.core.frame.DataFrame'>\n",
      "Index: 627 entries, 0 to 629\n",
      "Data columns (total 22 columns):\n",
      " #   Column                    Non-Null Count  Dtype  \n",
      "---  ------                    --------------  -----  \n",
      " 0   year                      627 non-null    int64  \n",
      " 1   country                   627 non-null    object \n",
      " 2   cheese                    627 non-null    float64\n",
      " 3   yoghurt                   627 non-null    float64\n",
      " 4   total_milk                627 non-null    float64\n",
      " 5   fruits                    627 non-null    float64\n",
      " 6   refined_grains            627 non-null    float64\n",
      " 7   whole_grains              627 non-null    float64\n",
      " 8   nuts_and_seeds            627 non-null    float64\n",
      " 9   total_processed_meats     627 non-null    float64\n",
      " 10  unprocessed_red_meats     627 non-null    float64\n",
      " 11  fish                      627 non-null    float64\n",
      " 12  shellfish                 627 non-null    float64\n",
      " 13  eggs                      627 non-null    float64\n",
      " 14  total_salt                627 non-null    float64\n",
      " 15  added_sugars              627 non-null    float64\n",
      " 16  non-starchy_vegetables    627 non-null    float64\n",
      " 17  potatoes                  627 non-null    float64\n",
      " 18  other_starchy_vegetables  627 non-null    float64\n",
      " 19  beans_and_legumes         627 non-null    float64\n",
      " 20  total_ug_per_kg           627 non-null    float64\n",
      " 21  GDP                       627 non-null    float64\n",
      "dtypes: float64(20), int64(1), object(1)\n",
      "memory usage: 112.7+ KB\n"
     ]
    }
   ],
   "source": [
    "microplasticXGDP_df.describe ()\n",
    "microplasticXGDP_df.info()"
   ]
  }
 ],
 "metadata": {
  "kernelspec": {
   "display_name": "Python 3",
   "language": "python",
   "name": "python3"
  },
  "language_info": {
   "codemirror_mode": {
    "name": "ipython",
    "version": 3
   },
   "file_extension": ".py",
   "mimetype": "text/x-python",
   "name": "python",
   "nbconvert_exporter": "python",
   "pygments_lexer": "ipython3",
   "version": "3.13.1"
  }
 },
 "nbformat": 4,
 "nbformat_minor": 5
}
