{
 "cells": [
  {
   "cell_type": "markdown",
   "id": "f1371809",
   "metadata": {},
   "source": [
    "Importing needed libraries and preparing CSV data for analysis "
   ]
  },
  {
   "cell_type": "code",
   "execution_count": 5,
   "id": "8632a374",
   "metadata": {},
   "outputs": [],
   "source": [
    "import pandas as pd\n",
    "import numpy as np\n",
    "import matplotlib.pyplot as plt\n"
   ]
  },
  {
   "cell_type": "code",
   "execution_count": 6,
   "id": "4e7005a7",
   "metadata": {},
   "outputs": [
    {
     "data": {
      "text/html": [
       "<div>\n",
       "<style scoped>\n",
       "    .dataframe tbody tr th:only-of-type {\n",
       "        vertical-align: middle;\n",
       "    }\n",
       "\n",
       "    .dataframe tbody tr th {\n",
       "        vertical-align: top;\n",
       "    }\n",
       "\n",
       "    .dataframe thead th {\n",
       "        text-align: right;\n",
       "    }\n",
       "</style>\n",
       "<table border=\"1\" class=\"dataframe\">\n",
       "  <thead>\n",
       "    <tr style=\"text-align: right;\">\n",
       "      <th></th>\n",
       "      <th>year</th>\n",
       "      <th>country</th>\n",
       "      <th>cheese</th>\n",
       "      <th>yoghurt</th>\n",
       "      <th>total_milk</th>\n",
       "      <th>fruits</th>\n",
       "      <th>refined_grains</th>\n",
       "      <th>whole_grains</th>\n",
       "      <th>nuts_and_seeds</th>\n",
       "      <th>total_processed_meats</th>\n",
       "      <th>...</th>\n",
       "      <th>fish</th>\n",
       "      <th>shellfish</th>\n",
       "      <th>eggs</th>\n",
       "      <th>total_salt</th>\n",
       "      <th>added_sugars</th>\n",
       "      <th>non-starchy_vegetables</th>\n",
       "      <th>potatoes</th>\n",
       "      <th>other_starchy_vegetables</th>\n",
       "      <th>beans_and_legumes</th>\n",
       "      <th>total_ug_per_kg</th>\n",
       "    </tr>\n",
       "  </thead>\n",
       "  <tbody>\n",
       "    <tr>\n",
       "      <th>0</th>\n",
       "      <td>1990</td>\n",
       "      <td>Angola</td>\n",
       "      <td>0.191781</td>\n",
       "      <td>54.899739</td>\n",
       "      <td>96.602740</td>\n",
       "      <td>76.520548</td>\n",
       "      <td>481.297149</td>\n",
       "      <td>44.309838</td>\n",
       "      <td>2.849315</td>\n",
       "      <td>22.770109</td>\n",
       "      <td>...</td>\n",
       "      <td>53.013699</td>\n",
       "      <td>0.164384</td>\n",
       "      <td>1.041096</td>\n",
       "      <td>8.005259</td>\n",
       "      <td>32.547945</td>\n",
       "      <td>80.164384</td>\n",
       "      <td>8.109589</td>\n",
       "      <td>39.342466</td>\n",
       "      <td>19.835616</td>\n",
       "      <td>1043.279108</td>\n",
       "    </tr>\n",
       "    <tr>\n",
       "      <th>1</th>\n",
       "      <td>1990</td>\n",
       "      <td>Benin</td>\n",
       "      <td>0.054795</td>\n",
       "      <td>9.365946</td>\n",
       "      <td>18.410959</td>\n",
       "      <td>90.876712</td>\n",
       "      <td>534.256965</td>\n",
       "      <td>48.836323</td>\n",
       "      <td>19.561644</td>\n",
       "      <td>17.018264</td>\n",
       "      <td>...</td>\n",
       "      <td>18.794521</td>\n",
       "      <td>3.972603</td>\n",
       "      <td>2.849315</td>\n",
       "      <td>5.854497</td>\n",
       "      <td>8.246575</td>\n",
       "      <td>122.986301</td>\n",
       "      <td>0.000000</td>\n",
       "      <td>304.904110</td>\n",
       "      <td>21.178082</td>\n",
       "      <td>1241.656197</td>\n",
       "    </tr>\n",
       "    <tr>\n",
       "      <th>2</th>\n",
       "      <td>1990</td>\n",
       "      <td>Burkina Faso</td>\n",
       "      <td>0.273973</td>\n",
       "      <td>35.390618</td>\n",
       "      <td>56.027397</td>\n",
       "      <td>19.178082</td>\n",
       "      <td>213.170183</td>\n",
       "      <td>129.416119</td>\n",
       "      <td>28.465753</td>\n",
       "      <td>9.541329</td>\n",
       "      <td>...</td>\n",
       "      <td>4.684932</td>\n",
       "      <td>0.000000</td>\n",
       "      <td>6.767123</td>\n",
       "      <td>6.928378</td>\n",
       "      <td>9.534247</td>\n",
       "      <td>64.767123</td>\n",
       "      <td>2.219178</td>\n",
       "      <td>13.780822</td>\n",
       "      <td>32.520548</td>\n",
       "      <td>666.603927</td>\n",
       "    </tr>\n",
       "    <tr>\n",
       "      <th>3</th>\n",
       "      <td>1990</td>\n",
       "      <td>Central African Republic</td>\n",
       "      <td>0.000000</td>\n",
       "      <td>19.206478</td>\n",
       "      <td>48.000000</td>\n",
       "      <td>113.397260</td>\n",
       "      <td>285.035375</td>\n",
       "      <td>302.567776</td>\n",
       "      <td>23.506849</td>\n",
       "      <td>26.412094</td>\n",
       "      <td>...</td>\n",
       "      <td>13.917808</td>\n",
       "      <td>0.000000</td>\n",
       "      <td>1.123288</td>\n",
       "      <td>6.585071</td>\n",
       "      <td>19.698630</td>\n",
       "      <td>101.753425</td>\n",
       "      <td>0.575342</td>\n",
       "      <td>209.452055</td>\n",
       "      <td>12.821918</td>\n",
       "      <td>1237.339905</td>\n",
       "    </tr>\n",
       "    <tr>\n",
       "      <th>4</th>\n",
       "      <td>1990</td>\n",
       "      <td>Cote D'Ivoire</td>\n",
       "      <td>0.301370</td>\n",
       "      <td>2.220447</td>\n",
       "      <td>38.109589</td>\n",
       "      <td>37.013699</td>\n",
       "      <td>436.907598</td>\n",
       "      <td>25.220347</td>\n",
       "      <td>16.904110</td>\n",
       "      <td>2.459103</td>\n",
       "      <td>...</td>\n",
       "      <td>51.424658</td>\n",
       "      <td>0.493151</td>\n",
       "      <td>2.438356</td>\n",
       "      <td>9.660915</td>\n",
       "      <td>28.438356</td>\n",
       "      <td>151.150685</td>\n",
       "      <td>1.945205</td>\n",
       "      <td>676.575343</td>\n",
       "      <td>2.356164</td>\n",
       "      <td>1540.502458</td>\n",
       "    </tr>\n",
       "  </tbody>\n",
       "</table>\n",
       "<p>5 rows × 21 columns</p>\n",
       "</div>"
      ],
      "text/plain": [
       "   year                   country    cheese    yoghurt  total_milk  \\\n",
       "0  1990                    Angola  0.191781  54.899739   96.602740   \n",
       "1  1990                     Benin  0.054795   9.365946   18.410959   \n",
       "2  1990              Burkina Faso  0.273973  35.390618   56.027397   \n",
       "3  1990  Central African Republic  0.000000  19.206478   48.000000   \n",
       "4  1990             Cote D'Ivoire  0.301370   2.220447   38.109589   \n",
       "\n",
       "       fruits  refined_grains  whole_grains  nuts_and_seeds  \\\n",
       "0   76.520548      481.297149     44.309838        2.849315   \n",
       "1   90.876712      534.256965     48.836323       19.561644   \n",
       "2   19.178082      213.170183    129.416119       28.465753   \n",
       "3  113.397260      285.035375    302.567776       23.506849   \n",
       "4   37.013699      436.907598     25.220347       16.904110   \n",
       "\n",
       "   total_processed_meats  ...       fish  shellfish      eggs  total_salt  \\\n",
       "0              22.770109  ...  53.013699   0.164384  1.041096    8.005259   \n",
       "1              17.018264  ...  18.794521   3.972603  2.849315    5.854497   \n",
       "2               9.541329  ...   4.684932   0.000000  6.767123    6.928378   \n",
       "3              26.412094  ...  13.917808   0.000000  1.123288    6.585071   \n",
       "4               2.459103  ...  51.424658   0.493151  2.438356    9.660915   \n",
       "\n",
       "   added_sugars  non-starchy_vegetables  potatoes  other_starchy_vegetables  \\\n",
       "0     32.547945               80.164384  8.109589                 39.342466   \n",
       "1      8.246575              122.986301  0.000000                304.904110   \n",
       "2      9.534247               64.767123  2.219178                 13.780822   \n",
       "3     19.698630              101.753425  0.575342                209.452055   \n",
       "4     28.438356              151.150685  1.945205                676.575343   \n",
       "\n",
       "   beans_and_legumes  total_ug_per_kg  \n",
       "0          19.835616      1043.279108  \n",
       "1          21.178082      1241.656197  \n",
       "2          32.520548       666.603927  \n",
       "3          12.821918      1237.339905  \n",
       "4           2.356164      1540.502458  \n",
       "\n",
       "[5 rows x 21 columns]"
      ]
     },
     "execution_count": 6,
     "metadata": {},
     "output_type": "execute_result"
    }
   ],
   "source": [
    "plastic_df = pd.read_csv (\"processed_microplastics.csv\")\n",
    "plastic_df.head()"
   ]
  },
  {
   "cell_type": "markdown",
   "id": "33e9db58",
   "metadata": {},
   "source": [
    "Exploring Data "
   ]
  },
  {
   "cell_type": "code",
   "execution_count": 9,
   "id": "6bd186b2",
   "metadata": {},
   "outputs": [
    {
     "name": "stdout",
     "output_type": "stream",
     "text": [
      "Shape : (723, 21)\n"
     ]
    }
   ],
   "source": [
    "plastic_df_shape = plastic_df . shape\n",
    "print (f\"Shape : {plastic_df_shape}\")"
   ]
  },
  {
   "cell_type": "code",
   "execution_count": 12,
   "id": "1a9273f5",
   "metadata": {},
   "outputs": [
    {
     "name": "stdout",
     "output_type": "stream",
     "text": [
      "<class 'pandas.core.frame.DataFrame'>\n",
      "RangeIndex: 723 entries, 0 to 722\n",
      "Data columns (total 21 columns):\n",
      " #   Column                    Non-Null Count  Dtype  \n",
      "---  ------                    --------------  -----  \n",
      " 0   year                      723 non-null    int64  \n",
      " 1   country                   723 non-null    object \n",
      " 2   cheese                    723 non-null    float64\n",
      " 3   yoghurt                   723 non-null    float64\n",
      " 4   total_milk                723 non-null    float64\n",
      " 5   fruits                    723 non-null    float64\n",
      " 6   refined_grains            723 non-null    float64\n",
      " 7   whole_grains              723 non-null    float64\n",
      " 8   nuts_and_seeds            723 non-null    float64\n",
      " 9   total_processed_meats     723 non-null    float64\n",
      " 10  unprocessed_red_meats     723 non-null    float64\n",
      " 11  fish                      723 non-null    float64\n",
      " 12  shellfish                 723 non-null    float64\n",
      " 13  eggs                      723 non-null    float64\n",
      " 14  total_salt                723 non-null    float64\n",
      " 15  added_sugars              723 non-null    float64\n",
      " 16  non-starchy_vegetables    723 non-null    float64\n",
      " 17  potatoes                  723 non-null    float64\n",
      " 18  other_starchy_vegetables  723 non-null    float64\n",
      " 19  beans_and_legumes         723 non-null    float64\n",
      " 20  total_ug_per_kg           723 non-null    float64\n",
      "dtypes: float64(19), int64(1), object(1)\n",
      "memory usage: 118.7+ KB\n"
     ]
    }
   ],
   "source": [
    "plastic_df.info()"
   ]
  },
  {
   "cell_type": "code",
   "execution_count": null,
   "id": "fd2f4a65",
   "metadata": {},
   "outputs": [
    {
     "name": "stdout",
     "output_type": "stream",
     "text": [
      "['Angola' 'Benin' 'Burkina Faso' 'Central African Republic'\n",
      " \"Cote D'Ivoire\" 'Cameroon' 'Congo' 'Djibouti' 'Algeria' 'Egypt'\n",
      " 'Ethiopia' 'Gabon' 'Ghana' 'Guinea' 'The Gambia' 'Guinea-Bissau' 'Kenya'\n",
      " 'Lesotho' 'Morocco' 'Madagascar' 'Mali' 'Mozambique' 'Mauritania'\n",
      " 'Mauritius' 'Malawi' 'Namibia' 'Niger' 'Nigeria' 'Rwanda' 'Senegal'\n",
      " 'Chad' 'Togo' 'Tunisia' 'Tanzania' 'Uganda' 'South Africa' 'Zambia'\n",
      " 'Zimbabwe' 'Albania' 'Argentina' 'Antigua And Barbuda' 'Australia'\n",
      " 'Austria' 'Bangladesh' 'Bulgaria' 'Bolivia' 'Brazil' 'Barbados' 'Canada'\n",
      " 'Switzerland' 'China' 'Colombia' 'Cuba' 'Germany' 'Dominica' 'Denmark'\n",
      " 'Dominican Republic' 'Spain' 'France' 'United Kingdom' 'Greece' 'Grenada'\n",
      " 'Hungary' 'Indonesia' 'India' 'Ireland' 'Iran' 'Iraq' 'Iceland' 'Jordan'\n",
      " 'Japan' 'Cambodia' 'South Korea' 'Kuwait' 'Laos' 'Saint Lucia'\n",
      " 'Sri Lanka' 'Mexico' 'Myanmar' 'Mongolia' 'Malaysia' 'Netherlands'\n",
      " 'Norway' 'Pakistan' 'Peru' 'Philippines' 'Portugal' 'Paraguay' 'Romania'\n",
      " 'Saudi Arabia' 'Slovakia' 'Sweden' 'Thailand' 'Trinidad And Tobago'\n",
      " 'Turkey' 'Uruguay' 'United States' 'Venezuela' 'Vietnam' 'Belgium'\n",
      " 'Bosnia And Herzegovina' 'Croatia' 'Luxembourg' 'Montenegro' 'Russia'\n",
      " 'Serbia' 'Slovenia' 'Syria' 'Ukraine']\n"
     ]
    }
   ],
   "source": [
    "unique_countries = plastic_df['country'].unique()\n",
    "\n",
    "print(unique_countries)"
   ]
  },
  {
   "cell_type": "code",
   "execution_count": 11,
   "id": "3d181a43",
   "metadata": {},
   "outputs": [
    {
     "name": "stdout",
     "output_type": "stream",
     "text": [
      "109\n"
     ]
    }
   ],
   "source": [
    "unique_countries_count = plastic_df['country'].nunique()\n",
    "\n",
    "print(unique_countries_count)"
   ]
  },
  {
   "cell_type": "code",
   "execution_count": 13,
   "id": "6832b09e",
   "metadata": {},
   "outputs": [
    {
     "name": "stdout",
     "output_type": "stream",
     "text": [
      "[1990 1995 2000 2005 2010 2015 2018]\n"
     ]
    }
   ],
   "source": [
    "unique_years = plastic_df['year'].unique()\n",
    "\n",
    "print(unique_years)"
   ]
  }
 ],
 "metadata": {
  "kernelspec": {
   "display_name": "Python 3",
   "language": "python",
   "name": "python3"
  },
  "language_info": {
   "codemirror_mode": {
    "name": "ipython",
    "version": 3
   },
   "file_extension": ".py",
   "mimetype": "text/x-python",
   "name": "python",
   "nbconvert_exporter": "python",
   "pygments_lexer": "ipython3",
   "version": "3.13.1"
  }
 },
 "nbformat": 4,
 "nbformat_minor": 5
}
